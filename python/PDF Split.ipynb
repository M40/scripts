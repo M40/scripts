{
 "cells": [
  {
   "cell_type": "code",
   "execution_count": 1,
   "metadata": {
    "collapsed": false
   },
   "outputs": [
    {
     "name": "stdout",
     "output_type": "stream",
     "text": [
      "written: C:\\Users\\SamirM1\\Desktop/a-split.pdf\n",
      "written: C:\\Users\\SamirM1\\Desktop/a-split.pdf\n",
      "written: C:\\Users\\SamirM1\\Desktop/a-split.pdf\n",
      "written: C:\\Users\\SamirM1\\Desktop/a-split.pdf\n",
      "written: C:\\Users\\SamirM1\\Desktop/a-split.pdf\n",
      "written: C:\\Users\\SamirM1\\Desktop/a-split.pdf\n",
      "written: C:\\Users\\SamirM1\\Desktop/a-split.pdf\n"
     ]
    }
   ],
   "source": [
    "from pdfsplit import splitPages as sp\n",
    "import os\n",
    "\n",
    "name = \"Ibrahim AlAlwa\"\n",
    "location = \"C:\\\\Users\\\\SamirM1\\\\Desktop\\\\\" \n",
    "location_ = \"C:\\\\Scan\\\\\"\n",
    "\n",
    "\n",
    "def splitz (x, y, unit, name, location):\n",
    "    sp (location+'a.pdf' , [slice (x,y, None)])\n",
    "    os.rename(location+'a-split.pdf' , location+name+'-Unit-'+unit+'.pdf')\n",
    "    \n",
    "def uCan():\n",
    "    splitz(0,1,'Br',name,location)\n",
    "    splitz(1,6,'1',name,location)\n",
    "    splitz(6,8,'3',name,location)\n",
    "    splitz(8,10,'4',name,location)\n",
    "    splitz(10,12,'6',name,location)\n",
    "    splitz(12,14,'10',name,location)\n",
    "    splitz(14,16,'11',name,location)\n",
    "\n",
    "def eAssess():\n",
    "\tsplitz(0,3,'2',name,location)\n",
    "\tsplitz(3,23,'5',name,location)\n",
    "\tsplitz(23,35,'7',name,location)\n",
    "\tsplitz(35,48,'8E1',name,location)\n",
    "\tsplitz(48,57,'8E2-5',name,location)\n",
    "\tsplitz(57,64,'9',name,location)\n",
    "\t\n",
    "def uCant():\n",
    "    splitz(0,1,'Br',name,location)\n",
    "    splitz(1,5,'1',name,location)\n",
    "    splitz(5,7,'3',name,location)\n",
    "    splitz(7,9,'4',name,location)\n",
    "    splitz(9,11,'6',name,location)\n",
    "    splitz(11,12,'10',name,location)\n",
    "    splitz(12,14,'11',name,location)\n",
    " \n",
    "\n",
    "\n",
    "uCant()\n",
    "#eAssess()\n",
    "\n",
    "\n"
   ]
  },
  {
   "cell_type": "code",
   "execution_count": null,
   "metadata": {
    "collapsed": false
   },
   "outputs": [],
   "source": []
  }
 ],
 "metadata": {
  "kernelspec": {
   "display_name": "Python 2",
   "language": "python",
   "name": "python2"
  },
  "language_info": {
   "codemirror_mode": {
    "name": "ipython",
    "version": 2
   },
   "file_extension": ".py",
   "mimetype": "text/x-python",
   "name": "python",
   "nbconvert_exporter": "python",
   "pygments_lexer": "ipython2",
   "version": "2.7.5"
  }
 },
 "nbformat": 4,
 "nbformat_minor": 0
}
