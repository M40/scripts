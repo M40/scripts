{
 "cells": [
  {
   "cell_type": "code",
   "execution_count": 2,
   "metadata": {
    "collapsed": true
   },
   "outputs": [],
   "source": [
    "import pandas as pd\n",
    "import numpy as np\n",
    "%matplotlib inline\n",
    "import matplotlib.pylab as plt"
   ]
  },
  {
   "cell_type": "code",
   "execution_count": null,
   "metadata": {
    "collapsed": true
   },
   "outputs": [],
   "source": [
    "pd.read_csv(\"\")"
   ]
  },
  {
   "cell_type": "markdown",
   "metadata": {},
   "source": [
    "## Hole Cleaning\n",
    "- Hole cleaning is the ability to remove drill cuttings and other unwanted solids from the annulus.\n",
    "- Factors influencing hole cleaning are:\n",
    "    - Well bore geometry (DLS, tortuosity, inclination)\n",
    "    - Cutting size, shape, density\n",
    "    - Fluid rheology (YP, regimes)\n",
    "    - Cuttings generation rate (ROP and hole size)\n",
    "    - Drill string modes (rotating, sliding)\n",
    "    - Flow Rate and drill string size (annular velocity)\n",
    "Hole Cleaning\n",
    "•\tProblems associated with insufficient hole cleaning\n",
    "–\tStuck pipe\n",
    "–\tHigh torque and drag\n",
    "–\tTight connections\n",
    "–\tDifficulty setting tool face orientation\n",
    "–\tIncreased solids in the drilling fluid\n",
    "–\tIncreased costs on drilling operation\n",
    "Drilling Fluid – Properties\n",
    "•\tCuttings settling\n",
    "–\tHindered settling\n",
    "–\tBoycott settling\n",
    "•\tWell geometry\n",
    "–\tDeviated wells\n",
    "–\tHorizontal wells\n",
    "Hole Cleaning\n",
    "•\tFlow type\n",
    "–\tPlug Flow\n",
    "–\tLaminar flow\n",
    "–\tTurbulent flow\n",
    "\n",
    "Hole Cleaning – Cuttings Settling\n",
    "•\tCuttings settling occurs when slip velocity is greater than the annular velocity and buoyancy forces \n",
    "•\tSlip Velocity – rate of cuttings settling\n",
    "–\tCalculations are dependent on type of fluid (e.g. Newtonian or non-Newtonian) and work best for ideal fluids\n",
    "–\tAccurate results are difficult due to the complex flow behaviors encountered down hole\n",
    "•\tTypes of cutting settling – hindered and boycotted\n",
    "Hole Cleaning – Cuttings Settling\n",
    "•\tHindered Settling\n",
    "–\tInteraction of particles with each other\n",
    "–\tInteraction of particles with pipe walls\n",
    "–\tForces associated with interactions influence settling rates\n",
    "Hole Cleaning – Cuttings Settling\n",
    "•\tBoycotted Settling\n",
    "–\tParticles tend to settle faster in inclined pipe compared to vertical pipes\n",
    "–\tApplies to cuttings settling in deviated and horizontal wells\n",
    "Hole Cleaning – Well Geometry\n",
    "•\tDeviated Well (45-55°)\n",
    "–\tUnstable, mobile cutting bed\n",
    "–\tCuttings transport by lifting mechanism\n",
    "Hole Cleaning – Well Geometry\n",
    "•\tHorizontal Well (>55°)\n",
    "–\tStationary cuttings bed forms instantaneously\n",
    "–\tCuttings transport by rolling mechanism\n",
    "–\tRPM is critical in highly deviated wells to ensure sufficient hole cleaning\n",
    "Hole Cleaning – Shear rate vs. Strain\n",
    "•\tShear Rate in a simple flow, is the change in fluid velocity divided by the width of the channel through which the fluid is moving.\n",
    "\n",
    "\n",
    "\n",
    "•\tShear Stress is the force per unit area required to move a fluid at a given shear rate.\n",
    "\n",
    "Hole Cleaning – Flow Types\n",
    "•\tTwo Flow Regimes\n",
    "–\tLaminar Flow (incl. Plug Flow)\n",
    "–\tTurbulent Flow\n",
    "Hole Cleaning – Flow Types\n",
    "•\tReynolds Number – ratio of inertial to viscous forces\n",
    "•\tPredicts if the flow regime is laminar or turbulent\n",
    "–\tIf Re approximately < 2,100 the flow is considered to be laminar (critical Re number) – sometimes 3,000 is used for pipe\n",
    "Hole Cleaning – Reynolds Number (Re)\n",
    "𝑅𝑒= 15.47 𝑥 𝑀𝑊 𝑥  𝑉﷮𝑝𝑖𝑝𝑒﷯ 𝑥 𝐼𝐷𝐷𝑃﷮𝜇﷯  𝑅𝑒= 15.467 𝑥 𝑀𝑊 𝑥  𝑉﷮𝑎𝑛𝑛﷯ 𝑥  𝐼𝐷 −𝑂𝐷𝐷𝑃﷯﷮𝜇﷯\n",
    "•\tWhere:\n",
    "–\tEquations for power law fluids\n",
    "–\tMW = Mud weight (lb/gal)\n",
    "–\t 𝑉﷮𝑝𝑖𝑝𝑒﷯/ 𝑉﷮𝑎𝑛𝑛﷯ = Fluid velocity in pipe and annulus (ft/min)\n",
    "–\tIDDP = Inner Pipe Diameter (in.)\n",
    "–\tODDP = Outer Pipe Diameter (in.)\n",
    "–\tID = Hole diameter (in.)\n",
    "–\t𝜇 = Newtonian fluid viscosity (cp)\n",
    "Hole Cleaning – Reynolds Number (Re)\n",
    "𝑅𝑒= 15.47 𝑥 𝑀𝑊 𝑥  𝑉﷮𝑝𝑖𝑝𝑒﷯ 𝑥 𝐼𝐷𝐷𝑃﷮𝜇﷯  𝑅𝑒= 15.467 𝑥 𝑀𝑊 𝑥  𝑉﷮𝑎𝑛𝑛﷯ 𝑥  𝐼𝐷 −𝑂𝐷𝐷𝑃﷯﷮𝜇﷯\n",
    "•\tCalculate the Reynolds number for the system where:\n",
    "–\tMW = 15 lb/gal\n",
    "–\t 𝑉﷮𝑝𝑖𝑝𝑒﷯= 540 ft/min\n",
    "–\tIDDP = 4.0 in.\n",
    "–\t𝜇 = 25 cp\n",
    "•\tState whether the fluid is laminar or turbulent\n",
    "Hole Cleaning – Reynolds Number (Re)\n",
    "𝑅𝑒= 15.47 𝑥 𝑀𝑊 𝑥  𝑉﷮𝑝𝑖𝑝𝑒﷯ 𝑥 𝐼𝐷𝐷𝑃﷮𝜇﷯  𝑅𝑒= 15.467 𝑥 𝑀𝑊 𝑥  𝑉﷮𝑎𝑛𝑛﷯ 𝑥  𝐼𝐷 −𝑂𝐷𝐷𝑃﷯﷮𝜇﷯\n",
    "𝑅𝑒=  15.47 𝑥 15 𝑥 540 𝑥 4.0﷮25﷯\n",
    "𝑅𝑒= 20049.12﷮25﷯\n",
    "𝑅𝑒=802\n",
    "•\tFlow = Laminar\n",
    "Hole Cleaning – Flow Types\n",
    "•\tPlug Flow – fluid moves as a single body\n",
    "–\tHigh shear stresses along walls of hole\n",
    "–\tThe speed is uniform along it front and slowest along hole and pipe walls\n",
    "–\tFluid forms telescopic layers\n",
    "–\tLeast desired flow pattern\n",
    "Hole Cleaning – Flow Types\n",
    "•\tLaminar Flow – fluid moves in parallel layers\n",
    "–\tLow to moderate shear rates\n",
    "–\tMost desired flow pattern because it does less damage to hole\n",
    "–\tBest flow pattern for removing drill cuttings\n",
    "–\tMud rheological parameters are important in calculating frictional pressure losses\n",
    "\n",
    "Hole Cleaning – Flow Types\n",
    "•\tTurbulent Flow - fluid moves in a chaotic and swirling manner\n",
    "–\tHigh shear rates\n",
    "–\tNot a desired flow pattern\n",
    "–\tEmpirical formulas are used to determine the pressure drop\n",
    "–\tDoes not remove drill cuttings efficiently\n",
    "–\tTurbulent flow occurs at the bit – favorable\n",
    "–\tTurbulent flow can lead to damage to drill pipe etc.\n",
    "\n",
    "Summary\n",
    "•\tHole cleaning is the removal of cuttings from the well\n",
    "•\tHole cleaning is influenced by hole geometry, cuttings settling and fluid flow regimes\n",
    "•\tLaminar flow is the ideal type for best hole cleaning\n",
    "•\tTurbulent flow is desirable at the bit\n",
    "•\tFluid regimes can be predicted using Reynolds Numbers\n",
    "•\tCuttings settle faster in inclined and horizontal wells\n"
   ]
  },
  {
   "cell_type": "markdown",
   "metadata": {},
   "source": [
    "$𝑅𝑒 = 15.47 * 𝑀𝑊 *  𝑉𝑝𝑖𝑝𝑒﷯ * 𝐼𝐷𝐷𝑃\\mu$\n",
    "$𝑅𝑒= 15.467 𝑥 𝑀𝑊 𝑥  𝑉﷮𝑎𝑛𝑛﷯ 𝑥  𝐼𝐷 −𝑂𝐷𝐷𝑃﷯﷮\\mu﷯$\n"
   ]
  },
  {
   "cell_type": "markdown",
   "metadata": {},
   "source": [
    "$\\cos (2\\theta) = \\cos^2 \\theta - \\sin^2 \\theta$"
   ]
  },
  {
   "cell_type": "code",
   "execution_count": null,
   "metadata": {
    "collapsed": true
   },
   "outputs": [],
   "source": []
  },
  {
   "cell_type": "code",
   "execution_count": null,
   "metadata": {
    "collapsed": true
   },
   "outputs": [],
   "source": []
  }
 ],
 "metadata": {
  "kernelspec": {
   "display_name": "Python 3",
   "language": "python",
   "name": "python3"
  },
  "language_info": {
   "codemirror_mode": {
    "name": "ipython",
    "version": 3
   },
   "file_extension": ".py",
   "mimetype": "text/x-python",
   "name": "python",
   "nbconvert_exporter": "python",
   "pygments_lexer": "ipython3",
   "version": "3.4.3"
  }
 },
 "nbformat": 4,
 "nbformat_minor": 0
}
